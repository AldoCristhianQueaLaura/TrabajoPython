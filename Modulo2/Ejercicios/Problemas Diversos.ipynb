{
 "cells": [
  {
   "cell_type": "markdown",
   "metadata": {},
   "source": [
    "# PROBLEMAS DIVERSOS"
   ]
  },
  {
   "cell_type": "markdown",
   "metadata": {},
   "source": [
    "<h3>1.</h3>\n",
    "Realizar una función que permita la carga de n alumnos. Por cada alumno se deberá preguntar el nombre completo y permitir el ingreso de 3 notas. Las notas deben estar comprendidas entre 0 y 10. Devolver el listado de alumnos."
   ]
  },
  {
   "cell_type": "code",
   "execution_count": 3,
   "metadata": {},
   "outputs": [
    {
     "name": "stdin",
     "output_type": "stream",
     "text": [
      "Cuantos alumnos hay en su clase? 2\n"
     ]
    },
    {
     "name": "stdout",
     "output_type": "stream",
     "text": [
      "Tienes 2 alumnos\n"
     ]
    },
    {
     "name": "stdin",
     "output_type": "stream",
     "text": [
      "Cual es el nombre del alumno? Aldo\n",
      "Cual es su primera nota? 5\n"
     ]
    },
    {
     "name": "stdout",
     "output_type": "stream",
     "text": [
      "La nota es 5\n"
     ]
    },
    {
     "name": "stdin",
     "output_type": "stream",
     "text": [
      "Cual es su segunda nota? 9\n"
     ]
    },
    {
     "name": "stdout",
     "output_type": "stream",
     "text": [
      "la nota es 9\n"
     ]
    },
    {
     "name": "stdin",
     "output_type": "stream",
     "text": [
      "Cual es su tercera nota? 6\n"
     ]
    },
    {
     "name": "stdout",
     "output_type": "stream",
     "text": [
      "la nota es 6\n",
      "el promedio de el alumno  Aldo es 6\n",
      "el alumno Aldo esta aprobado\n"
     ]
    },
    {
     "name": "stdin",
     "output_type": "stream",
     "text": [
      "Cual es el nombre del alumno? Cesar\n",
      "Cual es su primera nota? 5\n"
     ]
    },
    {
     "name": "stdout",
     "output_type": "stream",
     "text": [
      "La nota es 5\n"
     ]
    },
    {
     "name": "stdin",
     "output_type": "stream",
     "text": [
      "Cual es su segunda nota? 9\n"
     ]
    },
    {
     "name": "stdout",
     "output_type": "stream",
     "text": [
      "la nota es 9\n"
     ]
    },
    {
     "name": "stdin",
     "output_type": "stream",
     "text": [
      "Cual es su tercera nota? 8\n"
     ]
    },
    {
     "name": "stdout",
     "output_type": "stream",
     "text": [
      "la nota es 8\n",
      "el promedio de el alumno  Cesar es 7\n",
      "el alumno Cesar esta aprobado\n",
      "la lista de alumnos es ['Aldo', 'Cesar']\n"
     ]
    }
   ],
   "source": [
    "n= int(input(\"Cuantos alumnos hay en su clase?\"))\n",
    "print (\"Tienes\",n,\"alumnos\")\n",
    "list=[]            \n",
    "aprob=[]\n",
    "desaprob=[]\n",
    "notas=[]\n",
    "for x in range(n):     \n",
    "    \n",
    "    a=input(\"Cual es el nombre del alumno?\")   \n",
    "    while True:\n",
    "        b1=int(input(\"Cual es su primera nota?\"))   \n",
    "        if b1<=10 and b1>=0:                        \n",
    "            print (\"La nota es\" ,b1)\n",
    "            break\n",
    "        else:\n",
    "            print(\"Escriba una nota menor a 11\")\n",
    "    while True:\n",
    "        b2=int(input(\"Cual es su segunda nota?\"))\n",
    "        if b2<=10 and b2>=0:\n",
    "            print (\"la nota es\" ,b2)\n",
    "            break\n",
    "        else:\n",
    "            print(\"Escriba una nota menor a 11\")\n",
    "    while True:\n",
    "        b3=int(input(\"Cual es su tercera nota?\"))\n",
    "        if b3<=10 and b3>=0:\n",
    "            print (\"la nota es\" ,b3)\n",
    "            break\n",
    "        else:\n",
    "            print(\"Escriba una nota menor a 11\")        \n",
    "    promedio=int((b1+b2+b3)/3)                             \n",
    "    print(\"el promedio de el alumno \",a, \"es\" ,promedio)\n",
    "    if promedio>=4:\n",
    "        aprob.append(a)                                   \n",
    "        print (\"el alumno\" ,a, \"esta aprobado\")            \n",
    "    else:\n",
    "        print (\"el alumno\" ,a, \"esta desaprobado\")\n",
    "        desaprob.append(a)\n",
    "    \n",
    "    notas.append(promedio)               \n",
    "    \n",
    "    list.append(a)                       \n",
    "    \n",
    "print(\"la lista de alumnos es\",list) "
   ]
  },
  {
   "cell_type": "markdown",
   "metadata": {},
   "source": [
    "### 2.\n",
    "Definir una función que dado un listado de alumnos evalúe cuántos aprobaron y cuántos desaprobaron, teniendo en cuenta que se aprueba con 4. La nota será el promedio de las 3 notas para cada alumno."
   ]
  },
  {
   "cell_type": "code",
   "execution_count": 7,
   "metadata": {},
   "outputs": [],
   "source": [
    "def funcion(numero_apro_desapro):\n",
    "    return len(numero_apro_desapro)\n"
   ]
  },
  {
   "cell_type": "code",
   "execution_count": 8,
   "metadata": {},
   "outputs": [
    {
     "data": {
      "text/plain": [
       "2"
      ]
     },
     "execution_count": 8,
     "metadata": {},
     "output_type": "execute_result"
    }
   ],
   "source": [
    "funcion(aprob)"
   ]
  },
  {
   "cell_type": "code",
   "execution_count": 9,
   "metadata": {},
   "outputs": [
    {
     "data": {
      "text/plain": [
       "0"
      ]
     },
     "execution_count": 9,
     "metadata": {},
     "output_type": "execute_result"
    }
   ],
   "source": [
    "funcion(desaprob)"
   ]
  },
  {
   "cell_type": "markdown",
   "metadata": {},
   "source": [
    "### 3.\n",
    "Informar el promedio de nota del curso total."
   ]
  },
  {
   "cell_type": "code",
   "execution_count": 11,
   "metadata": {},
   "outputs": [
    {
     "name": "stdout",
     "output_type": "stream",
     "text": [
      "Las notas son:  [6, 7]\n",
      "El promedio total del curso es:  6.5\n"
     ]
    }
   ],
   "source": [
    "print( \"Las notas son: \",notas)\n",
    "prometio_total_notas=sum(notas)/n  \n",
    "print(\"El promedio total del curso es: \", float(prometio_total_notas))"
   ]
  },
  {
   "cell_type": "markdown",
   "metadata": {},
   "source": [
    "### 4.\n",
    "Realizar una función que indique quién tuvo el promedio más alto y quién tuvo la nota promedio más baja."
   ]
  },
  {
   "cell_type": "code",
   "execution_count": 14,
   "metadata": {},
   "outputs": [
    {
     "name": "stdout",
     "output_type": "stream",
     "text": [
      "La maxima nota es de:  Cesar\n"
     ]
    }
   ],
   "source": [
    "max_nota=list[notas.index(max(notas))]\n",
    "print (\"La maxima nota es de: \",max_nota)\n"
   ]
  },
  {
   "cell_type": "code",
   "execution_count": 15,
   "metadata": {},
   "outputs": [
    {
     "name": "stdout",
     "output_type": "stream",
     "text": [
      "La minima nota es de:  Aldo\n"
     ]
    }
   ],
   "source": [
    "min_nota=list[notas.index(min(notas))]\n",
    "print (\"La minima nota es de: \",min_nota)"
   ]
  },
  {
   "cell_type": "markdown",
   "metadata": {},
   "source": [
    "### 5.\n",
    "Realizar una función que permita buscar un alumno por nombre, siendo el nombre completo o parcial, y devuelva una lista con los n alumnos que concuerden con ese nombre junto con todos sus datos, incluido el promedio de sus notas."
   ]
  },
  {
   "cell_type": "code",
   "execution_count": 18,
   "metadata": {},
   "outputs": [
    {
     "name": "stdin",
     "output_type": "stream",
     "text": [
      "Ingrese el nombre a buscar Aldo\n"
     ]
    },
    {
     "name": "stdout",
     "output_type": "stream",
     "text": [
      "Sí esta en la lista\n",
      "El promedio de sus notas es:  6\n",
      "El alumno esta aprobado\n"
     ]
    }
   ],
   "source": [
    "f=input(\"Ingrese el nombre a buscar\")\n",
    "if True:\n",
    "    f in list\n",
    "    print(\"Sí esta en la lista\")\n",
    "    print(\"El promedio de sus notas es: \", notas[list.index(f)])\n",
    "    if notas[list.index(f)]>=4:                                 \n",
    "        print (\"El alumno esta aprobado\")            \n",
    "    else:\n",
    "        print (\"El alumno esta desaprobado\")\n",
    "         \n",
    "else:\n",
    "    print(\"No esta en la lista\")\n"
   ]
  }
 ],
 "metadata": {
  "kernelspec": {
   "display_name": "Python 3",
   "language": "python",
   "name": "python3"
  },
  "language_info": {
   "codemirror_mode": {
    "name": "ipython",
    "version": 3
   },
   "file_extension": ".py",
   "mimetype": "text/x-python",
   "name": "python",
   "nbconvert_exporter": "python",
   "pygments_lexer": "ipython3",
   "version": "3.8.3"
  }
 },
 "nbformat": 4,
 "nbformat_minor": 4
}
